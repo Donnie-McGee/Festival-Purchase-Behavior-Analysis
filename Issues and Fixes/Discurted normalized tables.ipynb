{
 "cells": [
  {
   "cell_type": "markdown",
   "id": "0b7b28ae",
   "metadata": {},
   "source": [
    "## Normalized tables"
   ]
  },
  {
   "cell_type": "markdown",
   "id": "6c902851",
   "metadata": {},
   "source": [
    "To normalize tables, first I polished the [festival_dataset_clean.csv](https://github.com/Donnie-McGee/Festival-Purchase-Behavior-Analysis/blob/main/Datasets%20%26%20Tables/festival_dataset_clean.csv) to create the [final_festival_dataset](https://github.com/Donnie-McGee/Festival-Purchase-Behavior-Analysis/blob/main/Datasets%20%26%20Tables/final_festival_dataset.csv), which contained no string fields, counting only with integer, boolean and date columns. This is designed to optimize procedural resources.\n",
    "\n",
    "In order to achieve it, first I selected the fields I was going to work with and then followed 2 different approaches to create normalized dimention tables. I used the same dictionary for both of them, although I added all columns in 2 different steps for an optimal use of it. The approaches consisted in:\n",
    "\n",
    "1. Using the dictionary and let the code assing the IDs with no specific order.\n",
    "2. Creating some dimention tables manually, assigning IDs in a specific order (Low=1, Medium=2, High=3, or Individual=1, Couple=2, Group=3)."
   ]
  },
  {
   "cell_type": "code",
   "execution_count": null,
   "id": "092f79b3",
   "metadata": {},
   "outputs": [],
   "source": [
    "import pandas as pd\n",
    "import numpy as np\n",
    "\n",
    "df = pd.read_csv(r\"C:\\Users\\PC\\Desktop\\Estudio\\Analisis de Datos\\Proyectos\\Festival Purchase Behavior Analysis\\Datasets\\final_festival_dataset.csv\")"
   ]
  },
  {
   "cell_type": "markdown",
   "id": "7997502d",
   "metadata": {},
   "source": [
    "#### Approach 1"
   ]
  },
  {
   "cell_type": "code",
   "execution_count": null,
   "id": "842b75b9",
   "metadata": {},
   "outputs": [],
   "source": [
    "# Create a dictionary with the columns that will be used to create the dimension tables \n",
    "to_dim_table = [\n",
    "    \"ticket_id\",\n",
    "    \"gender\",\n",
    "    \"favourite_genre\",\n",
    "    \"payment_method\"\n",
    "]\n",
    "\n",
    "# Create a dictionary to hold the dimension tables\n",
    "dim_tables = {}\n",
    "# I will use the column names as keys for the dictionary\n",
    "for col in to_dim_table:\n",
    "    # Creates a df with unique values for the column and assigns an ID\n",
    "    dim_df = df[[col]].drop_duplicates().reset_index(drop=True)\n",
    "    dim_df[f\"{col}_id\"] = dim_df.index + 1\n",
    "    # Creates a new column with IDs starting from 1\n",
    "    dim_tables[f\"dim_{col}\"] = dim_df"
   ]
  },
  {
   "cell_type": "markdown",
   "id": "0410e81a",
   "metadata": {},
   "source": [
    "#### Approach 2"
   ]
  },
  {
   "cell_type": "code",
   "execution_count": null,
   "id": "dbae46cd",
   "metadata": {},
   "outputs": [],
   "source": [
    "# Automate all 3 rating columns to avoid repetition\n",
    "rating_columns = [\"satisfaction_level\", \"cleanliness_rating_level\", \"security_rating_level\"]\n",
    "\n",
    "rating_levels = [\"Low\", \"Medium\", \"High\"]\n",
    "rating_ids = [1, 2, 3]\n",
    "\n",
    "for col in rating_columns:\n",
    "    dim_tables[f\"dim_{col}\"] = pd.DataFrame({\n",
    "        f\"{col}\": rating_levels,\n",
    "        f\"{col}_id\": rating_ids\n",
    "})\n",
    "\n",
    "dim_tables[\"dim_group_type\"] = pd.DataFrame({\n",
    "    \"group_type\": [\"Individual\", \"Couple\", \"Group\"],\n",
    "    \"group_type_id\": [1, 2, 3]\n",
    "})\n",
    "\n",
    "dim_tables[\"dim_age_group\"] = pd.DataFrame({\n",
    "    \"age_group\": [\"18-24\", \"25-34\", \"35-44\", \"45-54\", \"55+\"],\n",
    "    \"age_group_id\": [1, 2, 3, 4, 5]\n",
    "})\n",
    "\n",
    "dim_tables[\"dim_ticket_type\"] = pd.DataFrame({\n",
    "    \"ticket_type\": [\"1-day Pass\", \"3-day Pass\", \"VIP\"],\n",
    "    \"ticket_type_id\": [1, 2, 3]\n",
    "})\n",
    "\n",
    "# Add the columns of the 2nd approach to the list of columns to be merged back to the main dataframe\n",
    "to_dim_table.extend([\n",
    "    \"ticket_type\",\n",
    "    \"satisfaction_level\",\n",
    "    \"cleanliness_rating_level\",\n",
    "    \"security_rating_level\",\n",
    "    \"group_type\",\n",
    "    \"age_group\"\n",
    "])\n",
    "\n",
    "# Merge the dimension tables back to the main dataframe\n",
    "# I will sustitute the original columns with the new ID columns\n",
    "for col in to_dim_table:\n",
    "    # Merges the dimension tables back to the main dataframe\n",
    "    # I used a left join to keep all records in the main dataframe\n",
    "    df = df.merge(dim_tables[f\"dim_{col}\"], on=col, how='left')\n",
    "    # Deletes the original column from the main dataframe\n",
    "    df.drop(col, axis=1, inplace=True)\n",
    "\n",
    "for i in dim_tables:\n",
    "    print(dim_tables[i].value_counts())"
   ]
  },
  {
   "cell_type": "markdown",
   "id": "53ae9430",
   "metadata": {},
   "source": [
    "I found an issue:\n",
    "\n",
    "- *\"ticket_id_id\"* column: Due to the sintax in the code, this column name was assigned, so I fixed it with:"
   ]
  },
  {
   "cell_type": "code",
   "execution_count": null,
   "id": "54edb836",
   "metadata": {},
   "outputs": [],
   "source": [
    "# Rename the column to have a consistent naming convention\n",
    "df.rename(columns={\"ticket_id_id\": \"ticket_id\"}, inplace=True)"
   ]
  },
  {
   "cell_type": "markdown",
   "id": "5782ffe4",
   "metadata": {},
   "source": [
    "#### Saving the dim tables"
   ]
  },
  {
   "cell_type": "markdown",
   "id": "8045736a",
   "metadata": {},
   "source": [
    "I decided to keep these discarded tables, along with the way I created them, to document every significant step I took. Initially, they were saved in a different folder, but I later changed it to maintain the original structure I had established."
   ]
  },
  {
   "cell_type": "code",
   "execution_count": null,
   "id": "05f0b4c0",
   "metadata": {},
   "outputs": [],
   "source": [
    "# Define the folder path to save the dimension tables\n",
    "dim_table_folder = r\"C:\\Users\\PC\\Desktop\\Estudio\\Analisis de Datos\\Proyectos\\Festival Purchase Behavior Analysis\\Issues and Fixes\\Discarted normalized tables\"\n",
    "# Save each dimension table to a CSV file\n",
    "for table in dim_tables:\n",
    "    dim_tables[table].to_csv(f\"{dim_table_folder}\\{table}.csv\", index=False)"
   ]
  }
 ],
 "metadata": {
  "kernelspec": {
   "display_name": "Python 3",
   "language": "python",
   "name": "python3"
  },
  "language_info": {
   "name": "python",
   "version": "3.12.3"
  }
 },
 "nbformat": 4,
 "nbformat_minor": 5
}
