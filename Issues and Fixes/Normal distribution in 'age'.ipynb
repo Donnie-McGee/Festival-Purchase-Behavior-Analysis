{
 "cells": [
  {
   "cell_type": "markdown",
   "id": "814acf1d",
   "metadata": {},
   "source": [
    "# Normal distribution in *\"age\"*"
   ]
  },
  {
   "cell_type": "code",
   "execution_count": 27,
   "id": "8c3b823e",
   "metadata": {},
   "outputs": [
    {
     "name": "stdout",
     "output_type": "stream",
     "text": [
      "age\n",
      "18    1077\n",
      "29     734\n",
      "32     680\n",
      "30     673\n",
      "28     673\n",
      "31     657\n",
      "33     654\n",
      "27     633\n",
      "34     632\n",
      "35     606\n",
      "25     595\n",
      "26     591\n",
      "23     541\n",
      "36     537\n",
      "24     515\n",
      "37     467\n",
      "38     425\n",
      "39     389\n",
      "22     379\n",
      "21     367\n",
      "40     334\n",
      "20     289\n",
      "41     265\n",
      "19     259\n",
      "42     214\n",
      "43     187\n",
      "44     129\n",
      "45     108\n",
      "46      99\n",
      "47      83\n",
      "48      60\n",
      "49      48\n",
      "50      26\n",
      "52      23\n",
      "51      17\n",
      "53       9\n",
      "54       9\n",
      "55       8\n",
      "56       4\n",
      "57       3\n",
      "58       1\n",
      "Name: count, dtype: int64\n"
     ]
    }
   ],
   "source": [
    "import pandas as pd\n",
    "import numpy as np\n",
    "\n",
    "df = pd.read_csv(r\"C:\\Users\\PC\\Desktop\\Estudio\\Analisis de Datos\\Proyectos\\Festival Purchase Behavior Analysis\\Datasets\\festival_dataset_dirty.csv\")\n",
    "\n",
    "# For age I will use a normal distribution with a mean of 30 and a standard deviation of 7\n",
    "min = 18\n",
    "max = 59\n",
    "mean = 30\n",
    "std_dev = 8\n",
    "\n",
    "# Generate random ages using a normal distribution\n",
    "ages = np.random.normal(loc=mean, scale=std_dev, size=len(df))\n",
    "\n",
    "# Clip the ages to be within the specified range\n",
    "clipped_ages = np.clip(ages, min, max)\n",
    "\n",
    "# Round the ages to the nearest integer\n",
    "clipped_ages = np.round(clipped_ages).astype(int)\n",
    "\n",
    "# Assinging the clipped ages to the 'age' column\n",
    "df[\"age\"] = clipped_ages\n",
    "\n",
    "print(df[\"age\"].value_counts())"
   ]
  },
  {
   "cell_type": "markdown",
   "id": "1a41bf15",
   "metadata": {},
   "source": [
    "The value *18* showed an unexpectedly high peak due to clipping all values below the lower limit of the normal distribution. This introduced a bias, making *18* the mode, which didn’t reflect a realistic age distribution.\n",
    "\n",
    "To solve this, I applied a ***right-skewed normal distribution*** using `scipy.stats.skewnorm`. This approach allowed me to reduce the artificial accumulation of minimum values while still preserving a realistic presence of younger attendees.\n",
    "\n",
    "You can read more about the skewnorm function [here](https://docs.scipy.org/doc/scipy/reference/generated/scipy.stats.skewnorm.html#scipy.stats.skewnorm)."
   ]
  },
  {
   "cell_type": "code",
   "execution_count": 28,
   "id": "fa906777",
   "metadata": {},
   "outputs": [
    {
     "name": "stdout",
     "output_type": "stream",
     "text": [
      "age\n",
      "33    762\n",
      "30    735\n",
      "32    722\n",
      "34    696\n",
      "36    691\n",
      "29    683\n",
      "31    652\n",
      "35    641\n",
      "28    619\n",
      "27    603\n",
      "37    580\n",
      "38    563\n",
      "26    539\n",
      "39    499\n",
      "25    463\n",
      "18    462\n",
      "40    430\n",
      "41    416\n",
      "24    402\n",
      "23    345\n",
      "42    294\n",
      "43    283\n",
      "22    281\n",
      "21    262\n",
      "44    247\n",
      "20    196\n",
      "45    175\n",
      "19    167\n",
      "46    145\n",
      "47    105\n",
      "48     81\n",
      "49     71\n",
      "50     54\n",
      "51     41\n",
      "52     35\n",
      "54     17\n",
      "53     14\n",
      "57     11\n",
      "55      9\n",
      "56      3\n",
      "58      3\n",
      "59      3\n",
      "Name: count, dtype: int64\n"
     ]
    }
   ],
   "source": [
    "# Import necessary libraries\n",
    "from scipy.stats import skewnorm\n",
    "\n",
    "min = 18\n",
    "max = 59\n",
    "mean = 30\n",
    "std_dev = 8\n",
    "\n",
    "# Generate a right skewed normal distribution for age\n",
    "age_dist = skewnorm.rvs(0.4, loc=mean, scale=std_dev, size=len(df), random_state=None)\n",
    "\n",
    "# Clip to keep values in range\n",
    "age_dist = np.clip(age_dist, min, max)\n",
    "\n",
    "# Round to nearest integer\n",
    "df[\"age\"] = np.round(age_dist).astype(int)\n",
    "\n",
    "print(df[\"age\"].value_counts())"
   ]
  },
  {
   "cell_type": "markdown",
   "id": "6691d81e",
   "metadata": {},
   "source": [
    "With this new approach, the *\"age\"* distribution looks much more natural. The value *18* is no longer dominant but still retains enough frequency to represent a meaningful portion of the younger audience."
   ]
  }
 ],
 "metadata": {
  "kernelspec": {
   "display_name": "Python 3",
   "language": "python",
   "name": "python3"
  },
  "language_info": {
   "codemirror_mode": {
    "name": "ipython",
    "version": 3
   },
   "file_extension": ".py",
   "mimetype": "text/x-python",
   "name": "python",
   "nbconvert_exporter": "python",
   "pygments_lexer": "ipython3",
   "version": "3.12.3"
  }
 },
 "nbformat": 4,
 "nbformat_minor": 5
}
