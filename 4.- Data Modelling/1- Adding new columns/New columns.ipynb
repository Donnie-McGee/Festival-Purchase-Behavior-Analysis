{
 "cells": [
  {
   "cell_type": "markdown",
   "id": "5bb80e51",
   "metadata": {},
   "source": [
    "### New columns"
   ]
  },
  {
   "cell_type": "code",
   "execution_count": 1,
   "id": "9f7e6fe0",
   "metadata": {},
   "outputs": [],
   "source": [
    "import pandas as pd\n",
    "import numpy as np\n",
    "\n",
    "df = pd.read_csv(r\"C:\\Users\\PC\\Desktop\\Estudio\\Analisis de Datos\\Proyectos\\Festival Purchase Behavior Analysis\\Datasets\\festival_dataset_clean.csv\")\n",
    "\n",
    "# Calculate the total amount spent on food, drinks, and merchandise\n",
    "df[\"total_spent\"] = round(df[\"food_expense\"] + df[\"drink_expense\"] + df[\"merch_expense\"], 2)\n",
    "\n",
    "# Boolean column to indicate if the person attends multiple days\n",
    "if \"ticket_type\" == \"1-Day Pass\":\n",
    "    df[\"is_multiday\"] = False\n",
    "else:\n",
    "    df[\"is_multiday\"] = True\n",
    "\n",
    "# Create bins for age groups\n",
    "df[\"age_group\"] = pd.cut(df[\"age\"],\n",
    "                  bins = [17, 24, 34, 44, 54, 59],\n",
    "                  labels = [\"18-24\", \"25-34\", \"35-44\", \"45-54\", \"55+\"])\n",
    "\n",
    "# Segment satisfaction scores into levels\n",
    "df[\"satisfaction_level\"] = pd.cut(df[\"satisfaction_score\"],\n",
    "                                  bins = [0, 5, 8, 10],\n",
    "                                  labels = [\"Low\", \"Medium\", \"High\"])\n",
    "\n",
    "# Segment cleanliness rating into levels\n",
    "df[\"cleanliness_rating_level\"] = pd.cut(df[\"cleanliness_rating\"],\n",
    "                                  bins = [0, 5, 8, 10],\n",
    "                                  labels = [\"Low\", \"Medium\", \"High\"])\n",
    "\n",
    "# Segment security rating into levels\n",
    "df[\"security_rating_level\"] = pd.cut(df[\"security_rating\"],\n",
    "                                  bins = [0, 5, 8, 10],\n",
    "                                  labels = [\"Low\", \"Medium\", \"High\"])\n",
    "\n",
    "# Segment the type of visitor for easier analysis\n",
    "for size in df[\"group_size\"]:\n",
    "    if size == 1:\n",
    "        df[\"group_type\"] = \"Individual\"\n",
    "    elif size == 2:\n",
    "        df[\"group_type\"] = \"Couple\"\n",
    "    else:\n",
    "        df[\"group_type\"] = \"Group\"\n",
    "\n",
    "# Mean rating of all 3 rating scores\n",
    "df[\"mean_rating\"] = round((df[\"satisfaction_score\"] + df[\"security_rating\"] + df[\"cleanliness_rating\"])/3, 2)\n",
    "\n",
    "# Save the final dataframe to a CSV file\n",
    "df.to_csv(r\"C:\\Users\\PC\\Desktop\\Estudio\\Analisis de Datos\\Proyectos\\Festival Purchase Behavior Analysis\\Datasets\\final_festival_dataset.csv\", index=False)\n"
   ]
  }
 ],
 "metadata": {
  "kernelspec": {
   "display_name": "Python 3",
   "language": "python",
   "name": "python3"
  },
  "language_info": {
   "codemirror_mode": {
    "name": "ipython",
    "version": 3
   },
   "file_extension": ".py",
   "mimetype": "text/x-python",
   "name": "python",
   "nbconvert_exporter": "python",
   "pygments_lexer": "ipython3",
   "version": "3.12.3"
  }
 },
 "nbformat": 4,
 "nbformat_minor": 5
}
