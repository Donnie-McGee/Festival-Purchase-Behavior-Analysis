{
 "cells": [
  {
   "cell_type": "markdown",
   "id": "e5e076c8",
   "metadata": {},
   "source": [
    "### Fact tables"
   ]
  },
  {
   "cell_type": "markdown",
   "id": "3ea5ae2c",
   "metadata": {},
   "source": [
    "First, I define the structure of my future fact tables."
   ]
  },
  {
   "cell_type": "code",
   "execution_count": null,
   "id": "6b1229e7",
   "metadata": {},
   "outputs": [],
   "source": [
    "import pandas as pd\n",
    "import numpy as np\n",
    "\n",
    "df = pd.read_csv(r\"C:\\Users\\PC\\Desktop\\Estudio\\Analisis de Datos\\Proyectos\\Festival Purchase Behavior Analysis\\Datasets\\final_festival_dataset.csv\")\n",
    "\n",
    "# Define the columns for each fact table\n",
    "expenses_columns = [\"ticket_id\",\n",
    "                    \"food_expense\",\n",
    "                    \"drink_expense\",\n",
    "                    \"merch_expense\",\n",
    "                    \"total_spent\",\n",
    "                    \"payment_method_id\"\n",
    "]\n",
    "\n",
    "attendee_info_columns = [\"ticket_id\",\n",
    "                         \"attendance_date\",\n",
    "                         \"ticket_type_id\",\n",
    "                         \"age\",\n",
    "                         \"age_group_id\",\n",
    "                         \"gender_id\",\n",
    "                         \"favourite_genre_id\",\n",
    "                         \"group_size\",\n",
    "                         \"group_type_id\",\n",
    "                         \"is_multiday\",\n",
    "                         \"recommend_to_friend\"\n",
    "]\n",
    "\n",
    "ratings_columns = [\"ticket_id\",\n",
    "                   \"satisfaction_score\",\n",
    "                   \"security_rating\",\n",
    "                   \"cleanliness_rating\",\n",
    "                   \"mean_rating\",\n",
    "                   \"satisfaction_level_id\",\n",
    "                   \"cleanliness_rating_level_id\",\n",
    "                   \"security_rating_level_id\"\n",
    "]"
   ]
  },
  {
   "cell_type": "markdown",
   "id": "08f46af4",
   "metadata": {},
   "source": [
    "Then, I copy the information within my DataFrame into my tables and save them, separately, in the fact_table folder."
   ]
  },
  {
   "cell_type": "code",
   "execution_count": null,
   "id": "dc06aeb2",
   "metadata": {},
   "outputs": [],
   "source": [
    "# Create a dictionary to hold the fact tables\n",
    "fact_tables = {}\n",
    "# Create a dictionary with table names and their respective columns\n",
    "fact_tables_info = {\n",
    "    \"fact_expenses\": expenses_columns,\n",
    "    \"fact_attendee_info\": attendee_info_columns,\n",
    "    \"fact_ratings\": ratings_columns\n",
    "}\n",
    "\n",
    "# Fill the fact tables with the respective columns from the main DataFrame\n",
    "for table_name, columns in fact_tables_info.items():\n",
    "    fact_tables[table_name] = df[columns]\n",
    "\n",
    "\n",
    "# I create the string location for the CSV file\n",
    "directory = r\"C:\\Users\\PC\\Desktop\\Estudio\\Analisis de Datos\\Proyectos\\Festival Purchase Behavior Analysis\\Datasets & Tables\\Tables\\fact_tables\"\n",
    "# Save each fact table to a separate CSV file in a shared directory\n",
    "for table_name, table_df in fact_tables.items():\n",
    "    # \"fr\" allows the use of backslashes in the path without escaping them while using f-strings\n",
    "    table_df.to_csv(fr\"{directory}\\{table_name}.csv\", index=False)\n"
   ]
  }
 ],
 "metadata": {
  "kernelspec": {
   "display_name": "Python 3",
   "language": "python",
   "name": "python3"
  },
  "language_info": {
   "name": "python",
   "version": "3.12.3"
  }
 },
 "nbformat": 4,
 "nbformat_minor": 5
}
