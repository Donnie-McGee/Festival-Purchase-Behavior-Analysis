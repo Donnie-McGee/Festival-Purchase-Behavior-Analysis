{
 "cells": [
  {
   "cell_type": "markdown",
   "id": "fee379dd",
   "metadata": {},
   "source": [
    "## Redefinying distributions"
   ]
  },
  {
   "cell_type": "markdown",
   "id": "2b925358",
   "metadata": {},
   "source": [
    "All columns followed the same pattern: all possible values had almost the same proportion. "
   ]
  },
  {
   "cell_type": "markdown",
   "id": "02dde9ae",
   "metadata": {},
   "source": [
    "### Customized distribution"
   ]
  },
  {
   "cell_type": "markdown",
   "id": "e9f21349",
   "metadata": {},
   "source": [
    "In this step I will force my fields to follow the distributions I came up with."
   ]
  },
  {
   "cell_type": "markdown",
   "id": "77e621eb",
   "metadata": {},
   "source": [
    "#### Rating fields"
   ]
  },
  {
   "cell_type": "code",
   "execution_count": null,
   "id": "0e93946b",
   "metadata": {},
   "outputs": [],
   "source": [
    "import pandas as pd\n",
    "import numpy as np\n",
    "\n",
    "df = pd.read_csv(r\"C:\\Users\\PC\\Desktop\\Estudio\\Analisis de Datos\\Proyectos\\Festival Purchase Behavior Analysis\\Datasets & Tables\\festival_dataset_dirty.csv\")\n",
    "\n",
    "#-----------------------\n",
    "# Column satisfaction_score\n",
    "# Mixed reviews for satisfaction, but generally positive\n",
    "values = [1, 2, 3, 4, 5, 6, 7, 8, 9, 10]\n",
    "distribution = [0.11, 0.05, 0.04, 0.12, 0.08, 0.1, 0.07, 0.3, 0.1, 0.03]\n",
    "\n",
    "# Randomly assign the satisfaction score based on the distribution\n",
    "df[\"satisfaction_score\"] = np.random.choice(\n",
    "    values,\n",
    "    size=len(df),\n",
    "    p=distribution\n",
    ")\n",
    "\n",
    "#-----------------------\n",
    "# Column security_rating\n",
    "# General positive reviews for securty\n",
    "values = [1, 2, 4, 5, 6, 7, 8, 9, 10]\n",
    "distribution = [0.02, 0.02, 0.01, 0.05, 0.1, 0.2, 0.25, 0.2, 0.15]\n",
    "\n",
    "# Randomly assign the security rating based on the distribution\n",
    "df[\"security_rating\"] = np.random.choice(\n",
    "    values,\n",
    "    size=len(df),\n",
    "    p=distribution\n",
    ")\n",
    "\n",
    "#-----------------------\n",
    "# Column cleanliness_rating\n",
    "# General negative reviews for cleanliness\n",
    "values = [1, 2, 3, 4, 5, 6, 7, 8, 9, 10]\n",
    "distribution = [0.03, 0.12, 0.18, 0.12, 0.1, 0.18, 0.1, 0.07, 0.06, 0.04]\n",
    "\n",
    "# Randomly assign the cleanliness rating based on the distribution\n",
    "df[\"cleanliness_rating\"] = np.random.choice(\n",
    "    values,\n",
    "    size=len(df),\n",
    "    p=distribution\n",
    ")"
   ]
  },
  {
   "cell_type": "markdown",
   "id": "03380097",
   "metadata": {},
   "source": [
    "#### No rating fields"
   ]
  },
  {
   "cell_type": "code",
   "execution_count": 4,
   "id": "54a9c2bd",
   "metadata": {},
   "outputs": [],
   "source": [
    "#-----------------------\n",
    "# Column group_size\n",
    "# Mayority of larger groups over smaller ones\n",
    "values = [1, 2, 3, 4, 5]\n",
    "distribution = [0.09, 0.17, 0.31, 0.23, 0.2]\n",
    "\n",
    "# Randomly assign the group size based on the distribution\n",
    "df[\"group_size\"] = np.random.choice(\n",
    "    values,\n",
    "    size=len(df),\n",
    "    p=distribution\n",
    ")\n",
    "\n",
    "#-----------------------\n",
    "# Column payment_method\n",
    "# Tendency to pay with card and cash\n",
    "values = [\"Card\", \"Cash\", \"Festival App\"]\n",
    "distribution = [0.65, 0.3, 0.05]\n",
    "\n",
    "# Randomly assign the payment method based on the distribution\n",
    "df[\"payment_method\"] = np.random.choice(\n",
    "    values,\n",
    "    size=len(df),\n",
    "    p=distribution\n",
    ")"
   ]
  },
  {
   "cell_type": "markdown",
   "id": "47c27d00",
   "metadata": {},
   "source": [
    "### Column *\"age\"*"
   ]
  },
  {
   "cell_type": "markdown",
   "id": "4f92bd91",
   "metadata": {},
   "source": [
    "I applied a random normal distribution to this field, as it best simulates a realistic age spread. I thought this would be the best fit for the column to behave realisticly. I clipped the values to ensure a minimum of 18 and a maximum of 59, meaning any outliers below or above those limits were automatically set to the nearest boundary."
   ]
  },
  {
   "cell_type": "code",
   "execution_count": 5,
   "id": "3055a46e",
   "metadata": {},
   "outputs": [
    {
     "name": "stdout",
     "output_type": "stream",
     "text": [
      "age\n",
      "32    746\n",
      "33    711\n",
      "36    709\n",
      "30    707\n",
      "35    697\n",
      "31    687\n",
      "34    685\n",
      "29    661\n",
      "28    601\n",
      "37    601\n",
      "27    571\n",
      "38    537\n",
      "39    527\n",
      "26    500\n",
      "40    460\n",
      "18    455\n",
      "25    437\n",
      "24    414\n",
      "41    405\n",
      "42    349\n",
      "23    334\n",
      "22    317\n",
      "43    271\n",
      "21    221\n",
      "44    214\n",
      "45    188\n",
      "20    186\n",
      "19    171\n",
      "46    143\n",
      "47    128\n",
      "48     89\n",
      "49     76\n",
      "50     57\n",
      "51     35\n",
      "53     32\n",
      "52     25\n",
      "54     16\n",
      "56     13\n",
      "55      9\n",
      "59      8\n",
      "57      5\n",
      "58      2\n",
      "Name: count, dtype: int64\n"
     ]
    }
   ],
   "source": [
    "# Import necessary libraries\n",
    "from scipy.stats import skewnorm\n",
    "\n",
    "min = 18\n",
    "max = 59\n",
    "mean = 30\n",
    "std_dev = 8\n",
    "\n",
    "# Generate a right skewed normal distribution for age\n",
    "# 0.4 is the skewness parameter: positive for right skew, \n",
    "# This densifies the distribution towards lower values but keeps them close to the mean,\n",
    "# What makes me avoid clipping many values below the minimum\n",
    "age_dist = skewnorm.rvs(0.4, loc=mean, scale=std_dev, size=len(df), random_state=None)\n",
    "\n",
    "# Clip to keep values in range\n",
    "age_dist = np.clip(age_dist, min, max)\n",
    "\n",
    "# Round to nearest integer\n",
    "df[\"age\"] = np.round(age_dist).astype(int)\n",
    "\n",
    "print(df[\"age\"].value_counts())"
   ]
  },
  {
   "cell_type": "markdown",
   "id": "25c2e155",
   "metadata": {},
   "source": [
    "## Adding variety in *\"origin_city\"*"
   ]
  },
  {
   "cell_type": "code",
   "execution_count": 6,
   "id": "ffa2078e",
   "metadata": {},
   "outputs": [],
   "source": [
    "# I will introduce 'Malaga' to add variety\n",
    "values = [\"Madrid\", \"Barcelona\", \"Valencia\", \"Sevilla\", \"Malaga\"]\n",
    "distribution = [0.38, 0.29, 0.18, 0.1, 0.05]\n",
    "df[\"origin_city\"] = np.random.choice(\n",
    "    values,\n",
    "    size=len(df),\n",
    "    p=distribution\n",
    ")"
   ]
  },
  {
   "cell_type": "markdown",
   "id": "9aa72565",
   "metadata": {},
   "source": [
    "## Changing *\"tickep_price\"*"
   ]
  },
  {
   "cell_type": "markdown",
   "id": "f51bc18c",
   "metadata": {},
   "source": [
    "The original ticket prices were:"
   ]
  },
  {
   "cell_type": "code",
   "execution_count": 7,
   "id": "a361ab9d",
   "metadata": {},
   "outputs": [
    {
     "name": "stdout",
     "output_type": "stream",
     "text": [
      "ticket_price\n",
      "80     4750\n",
      "200    4642\n",
      "150    4608\n",
      "Name: count, dtype: int64\n"
     ]
    }
   ],
   "source": [
    "print(df[\"ticket_price\"].value_counts())"
   ]
  },
  {
   "cell_type": "markdown",
   "id": "c4bcbbba",
   "metadata": {},
   "source": [
    "These values didn’t reflect a realistic price gap between tickets, especially considering the added value of multi-day or VIP passes. I updated them as follows:"
   ]
  },
  {
   "cell_type": "code",
   "execution_count": 8,
   "id": "687374bc",
   "metadata": {},
   "outputs": [
    {
     "name": "stdout",
     "output_type": "stream",
     "text": [
      "ticket_price\n",
      "80     4750\n",
      "350    4642\n",
      "210    4608\n",
      "Name: count, dtype: int64\n"
     ]
    }
   ],
   "source": [
    "# I will replace 150 for 210 and 200 for 350\n",
    "df[\"ticket_price\"] = df[\"ticket_price\"].replace({150: 210, 200: 350})\n",
    "\n",
    "print(df[\"ticket_price\"].value_counts())"
   ]
  },
  {
   "cell_type": "markdown",
   "id": "4694a5a6",
   "metadata": {},
   "source": [
    "## Saving changes"
   ]
  },
  {
   "cell_type": "code",
   "execution_count": 9,
   "id": "fb27ccdd",
   "metadata": {},
   "outputs": [],
   "source": [
    "df.to_csv(r\"C:\\Users\\PC\\Desktop\\Estudio\\Analisis de Datos\\Proyectos\\Festival Purchase Behavior Analysis\\Datasets & Tables\\festival_dataset_dirty_modified.csv\", index=False)"
   ]
  }
 ],
 "metadata": {
  "kernelspec": {
   "display_name": "Python 3",
   "language": "python",
   "name": "python3"
  },
  "language_info": {
   "codemirror_mode": {
    "name": "ipython",
    "version": 3
   },
   "file_extension": ".py",
   "mimetype": "text/x-python",
   "name": "python",
   "nbconvert_exporter": "python",
   "pygments_lexer": "ipython3",
   "version": "3.12.3"
  }
 },
 "nbformat": 4,
 "nbformat_minor": 5
}
