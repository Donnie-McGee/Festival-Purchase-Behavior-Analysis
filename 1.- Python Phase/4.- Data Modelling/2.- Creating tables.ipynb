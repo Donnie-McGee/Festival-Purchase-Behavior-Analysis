{
 "cells": [
  {
   "cell_type": "markdown",
   "id": "e5e076c8",
   "metadata": {},
   "source": [
    "### Creating tables"
   ]
  },
  {
   "cell_type": "markdown",
   "id": "3ea5ae2c",
   "metadata": {},
   "source": [
    "I divided the *\"final_festival_dataset\"* into:\n",
    "\n",
    "1 fact table: *\"fact_attendee\"*  \n",
    "2 dim tables: *\"dim_ratings\"* and *\"dim_expenses\"*\n",
    "\n",
    "This will create a star schema linking all 3 tables through *\"ticket_id\"*"
   ]
  },
  {
   "cell_type": "code",
   "execution_count": null,
   "id": "6b1229e7",
   "metadata": {},
   "outputs": [],
   "source": [
    "import pandas as pd\n",
    "import numpy as np\n",
    "\n",
    "df = pd.read_csv(r\"C:\\Festival Purchase Behavior Analysis\\Datasets\\final_festival_dataset.csv\")\n",
    "\n",
    "#-------------------------------\n",
    "# Creating fact table\n",
    "#-------------------------------\n",
    "\n",
    "fact_columns = [\n",
    "    \"ticket_id\",\n",
    "    \"attendance_date\",\n",
    "    \"gender\",\n",
    "    \"age\",\n",
    "    \"age_group\",\n",
    "    \"ticket_type\",\n",
    "    \"favourite_genre\",\n",
    "    \"group_size\",\n",
    "    \"group_type\",\n",
    "    \"is_multiday\",\n",
    "    \"recommend_to_friend\"\n",
    "]\n",
    "\n",
    "# Creates empty df for the fact table\n",
    "fact_attendees = pd.DataFrame()\n",
    "# Creates a df containing only the columns needed for the fact table\n",
    "for col in fact_columns:\n",
    "    # Iterates through the df and assigns the respective columns to the fact table\n",
    "    fact_attendees[col] = df[col].copy()\n",
    "\n",
    "#-------------------------------\n",
    "# Creating fact table\n",
    "#-------------------------------\n",
    "\n",
    "dim_rating_columns = [\n",
    "    \"ticket_id\",\n",
    "    \"satisfaction_rating\",\n",
    "    \"cleanliness_rating\",\n",
    "    \"security_rating\",\n",
    "    \"satisfaction_level\",\n",
    "    \"cleanliness_level\",\n",
    "    \"security_level\",\n",
    "    \"mean_rating\"\n",
    "]\n",
    "\n",
    "dim_expenses_columns = [\n",
    "    \"ticket_id\",\n",
    "    \"payment_method\",\n",
    "    \"food_expense\",\n",
    "    \"drink_expense\",\n",
    "    \"merch_expense\",\n",
    "    \"total_spent\"\n",
    "]\n",
    "\n",
    "# Creates empty dictionary to store the dim tables\n",
    "dim_tables = {}\n",
    "# Creates a dictionary containing names of dim tables + their respective columns\n",
    "dim_tables_info = {\"dim_ratings\": dim_rating_columns, \"dim_expenses\": dim_expenses_columns}\n",
    "# Loops through the dictionary and assigns the respective columns to each dim table\n",
    "# Using .item() it iterates through both the key (table name) and value (columns)\n",
    "# So it creates a new df for each dim table with the respective columns\n",
    "for table, col in dim_tables_info.items():\n",
    "    # Converts col to list type to be able to use it to filter the df\n",
    "    dim_tables[table] = df[col].copy()"
   ]
  },
  {
   "cell_type": "markdown",
   "id": "08f46af4",
   "metadata": {},
   "source": [
    "Once created the tables, I proceed to eliminate duplicates from both dim tables."
   ]
  },
  {
   "cell_type": "code",
   "execution_count": null,
   "id": "c4469305",
   "metadata": {},
   "outputs": [],
   "source": [
    "# Drops duplicates in the dim tables based on ticket_id\n",
    "for table in dim_tables:\n",
    "    dim_tables[table] = dim_tables[table].drop_duplicates(\"ticket_id\")"
   ]
  },
  {
   "cell_type": "markdown",
   "id": "1d60464f",
   "metadata": {},
   "source": [
    "After all 3 tables are properly fixed, I saved them."
   ]
  },
  {
   "cell_type": "code",
   "execution_count": null,
   "id": "dc06aeb2",
   "metadata": {},
   "outputs": [],
   "source": [
    "# I create the string location for the CSV file\n",
    "directory = r\"C:\\Festival Purchase Behavior Analysis\\Tables\"\n",
    "# Save the fact table to a CSV file\n",
    "fact_attendees.to_csv(fr\"{directory}\\fact_table\\fact_attendees.csv\", index=False)\n",
    "# Save each dimension table to a separate CSV file in a shared directory\n",
    "for table in dim_tables:\n",
    "    dim_tables[table].to_csv(fr\"{directory}\\dim_tables\\{table}.csv\", index=False)"
   ]
  }
 ],
 "metadata": {
  "kernelspec": {
   "display_name": "Python 3",
   "language": "python",
   "name": "python3"
  },
  "language_info": {
   "name": "python",
   "version": "3.12.3"
  }
 },
 "nbformat": 4,
 "nbformat_minor": 5
}
